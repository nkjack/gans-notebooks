{
 "cells": [
  {
   "cell_type": "code",
   "execution_count": 305,
   "metadata": {},
   "outputs": [
    {
     "name": "stdout",
     "output_type": "stream",
     "text": [
      "The autoreload extension is already loaded. To reload it, use:\n",
      "  %reload_ext autoreload\n",
      "Using device: cuda\n"
     ]
    }
   ],
   "source": [
    "import unittest\n",
    "import os\n",
    "import sys\n",
    "import pathlib\n",
    "import urllib\n",
    "import shutil\n",
    "import re\n",
    "import zipfile\n",
    "\n",
    "import numpy as np\n",
    "import torch\n",
    "import matplotlib.pyplot as plt\n",
    "\n",
    "import torchvision\n",
    "%load_ext autoreload\n",
    "%autoreload 2\n",
    "\n",
    "test = unittest.TestCase()\n",
    "plt.rcParams.update({'font.size': 12})\n",
    "device = torch.device('cuda' if torch.cuda.is_available() else 'cpu')\n",
    "print('Using device:', device)"
   ]
  },
  {
   "cell_type": "code",
   "execution_count": 306,
   "metadata": {},
   "outputs": [],
   "source": [
    "import util.plot as plot\n",
    "import util.download\n",
    "import torchvision.transforms as T\n",
    "from torchvision.datasets import ImageFolder\n",
    "\n",
    "DATA_DIR = pathlib.Path.home().joinpath('.pytorch-datasets')"
   ]
  },
  {
   "cell_type": "markdown",
   "metadata": {},
   "source": [
    "# MPIIGaze"
   ]
  },
  {
   "cell_type": "code",
   "execution_count": 384,
   "metadata": {},
   "outputs": [],
   "source": [
    "DATA_URL = 'http://datasets.d2.mpi-inf.mpg.de/MPIIGaze/MPIIGaze.tar.gz'\n",
    "# _, dataset_dir = util.download.download_data(out_path=DATA_DIR, url=DATA_URL, extract=True, force=False)\n",
    "\n",
    "ds_path = DATA_DIR.joinpath('MPIIGaze\\\\MPIIGaze\\\\Data\\\\Original\\\\p00\\\\day03')\n",
    "ds_mp2 = ImageFolder(os.path.dirname(ds_path), tf)\n",
    "\n",
    "with open(DATA_DIR.joinpath('MPIIGaze\\\\MPIIGaze\\\\Data\\\\Original\\\\p00\\\\day03\\\\annotation.txt'),'r') as f:\n",
    "    lines = f.readlines()"
   ]
  },
  {
   "cell_type": "code",
   "execution_count": 385,
   "metadata": {},
   "outputs": [
    {
     "data": {
      "text/plain": [
       "'549 427 561 417 578 416 591 424 577 431 562 432 671 421 685 412 702 412 718 421 703 427 686 427 1074 263 -123.326241 57.591770 -13.985868 -0.212663 0.169913 -0.032858 3.530845 31.447983 526.490723 -29.179829 33.121578 531.946960 36.241520 29.774389 521.034485\\n'"
      ]
     },
     "execution_count": 385,
     "metadata": {},
     "output_type": "execute_result"
    }
   ],
   "source": [
    "lines[0].split(\" \")[24:26]\n",
    "lines[0]"
   ]
  },
  {
   "cell_type": "code",
   "execution_count": 422,
   "metadata": {},
   "outputs": [],
   "source": [
    "import scipy.io as io\n",
    "fname = DATA_DIR.joinpath('MPIIGaze\\\\MPIIGaze\\\\Data\\\\Normalized\\\\p00\\\\day03.mat')\n",
    "mat_data= io.loadmat(fname)"
   ]
  },
  {
   "cell_type": "code",
   "execution_count": 423,
   "metadata": {},
   "outputs": [
    {
     "data": {
      "image/png": "[encoded data removed]",
      "text/plain": [
       "<PIL.Image.Image image mode=L size=60x36 at 0x112EDCE87C8>"
      ]
     },
     "execution_count": 423,
     "metadata": {},
     "output_type": "execute_result"
    }
   ],
   "source": [
    "from PIL import Image\n",
    "data = mat_data['data'][0][0][1][0][0][1]\n",
    "im = Image.fromarray(data[5])\n",
    "im"
   ]
  },
  {
   "cell_type": "code",
   "execution_count": 427,
   "metadata": {},
   "outputs": [
    {
     "data": {
      "text/plain": [
       "(1068, 36, 60)"
      ]
     },
     "execution_count": 427,
     "metadata": {},
     "output_type": "execute_result"
    }
   ],
   "source": [
    "data.shape"
   ]
  },
  {
   "cell_type": "code",
   "execution_count": 457,
   "metadata": {},
   "outputs": [],
   "source": [
    "dd = torch.from_numpy(data)\n",
    "\n",
    "tf = T.Compose([\n",
    "    T.ToPILImage(),\n",
    "    T.Grayscale(num_output_channels=1),\n",
    "    T.ToTensor()\n",
    "])"
   ]
  },
  {
   "cell_type": "code",
   "execution_count": 458,
   "metadata": {},
   "outputs": [],
   "source": [
    "imgs = [tf(im) for im in dd]\n"
   ]
  },
  {
   "cell_type": "code",
   "execution_count": 470,
   "metadata": {},
   "outputs": [
    {
     "data": {
      "text/plain": [
       "torch.Size([1068, 1, 36, 60])"
      ]
     },
     "execution_count": 470,
     "metadata": {},
     "output_type": "execute_result"
    }
   ],
   "source": [
    "torch.stack(imgs, dim=0).size()"
   ]
  },
  {
   "cell_type": "code",
   "execution_count": 440,
   "metadata": {},
   "outputs": [
    {
     "data": {
      "text/plain": [
       "torch.Size([3, 36, 60])"
      ]
     },
     "execution_count": 440,
     "metadata": {},
     "output_type": "execute_result"
    }
   ],
   "source": [
    "# \n",
    "T.ToTensor()(T.ToPILImage()(dd)).size()"
   ]
  },
  {
   "cell_type": "code",
   "execution_count": 400,
   "metadata": {},
   "outputs": [],
   "source": [
    "im = data[0]\n",
    "t = torch.from_numpy(im)"
   ]
  },
  {
   "cell_type": "code",
   "execution_count": 405,
   "metadata": {},
   "outputs": [
    {
     "data": {
      "image/png": "[encoded data removed]",
      "text/plain": [
       "<PIL.Image.Image image mode=L size=60x36 at 0x112E772DB48>"
      ]
     },
     "execution_count": 405,
     "metadata": {},
     "output_type": "execute_result"
    }
   ],
   "source": [
    "tf = T.Compose([T.ToPILImage(), T.ToTensor()])\n",
    "\n",
    "T.ToPILImage()(tf(t))"
   ]
  },
  {
   "cell_type": "code",
   "execution_count": 393,
   "metadata": {},
   "outputs": [],
   "source": [
    "import scipy.io as io\n",
    "from torch.utils.data import TensorDataset\n",
    "\n",
    "def mp2_create_dataset(folder_path):\n",
    "    files = os.listdir(folder_path)\n",
    "    tensors = []\n",
    "\n",
    "    for file in files:\n",
    "        fname = DATA_DIR.joinpath(f'MPIIGaze\\\\MPIIGaze\\\\Data\\\\Normalized\\\\p00').joinpath( file)\n",
    "        mat_data= io.loadmat(fname)\n",
    "        data = mat_data['data'][0][0][1][0][0][1]\n",
    "        tensors.append(torch.tensor(data))\n",
    "\n",
    "    t = torch.cat(tensors, dim=0)\n",
    "    ds = TensorDataset(t,)\n",
    "    return ds\n",
    "\n",
    "ds = mp2_create_dataset(DATA_DIR.joinpath('MPIIGaze\\\\MPIIGaze\\\\Data\\\\Normalized\\\\p00'))"
   ]
  },
  {
   "cell_type": "markdown",
   "metadata": {},
   "source": [
    "# UnityEyes"
   ]
  },
  {
   "cell_type": "code",
   "execution_count": 415,
   "metadata": {},
   "outputs": [],
   "source": [
    "DATA_URL_WIN = 'https://www.cl.cam.ac.uk/research/rainbow/projects/unityeyes/data/UnityEyes_Windows.zip'\n",
    "DATA_URL_LINUX = 'https://www.cl.cam.ac.uk/research/rainbow/projects/unityeyes/data/UnityEyes_Linux.zip'\n",
    "\n",
    "# ds_path = 'C:\\\\Users\\\\Noam\\\\Downloads\\\\UnityEyes_Windows\\\\UnityEyes_Windows\\\\imgs'\n",
    "ds_path = DATA_DIR.joinpath('UnityEyes_Windows\\\\UnityEyes_Windows\\\\imgs')"
   ]
  },
  {
   "cell_type": "code",
   "execution_count": 419,
   "metadata": {},
   "outputs": [],
   "source": [
    "# im_size = 128\n",
    "tf = T.Compose([\n",
    "    T.Grayscale(num_output_channels=1),\n",
    "    # Resize to constant spatial dimensions\n",
    "    T.CenterCrop((100,150)),\n",
    "    T.Resize((30, 36)),\n",
    "    # PIL.Image -> torch.Tensor\n",
    "    T.ToTensor(),\n",
    "    # Dynamic range [0,1] -> [-1, 1]\n",
    "#     T.Normalize(mean=(.5,.5,.5), std=(.5,.5,.5)),\n",
    "])"
   ]
  },
  {
   "cell_type": "code",
   "execution_count": 420,
   "metadata": {},
   "outputs": [],
   "source": [
    "ds_mp2 = ImageFolder(os.path.dirname(ds_path), tf)"
   ]
  },
  {
   "cell_type": "code",
   "execution_count": 421,
   "metadata": {},
   "outputs": [
    {
     "data": {
      "image/png": "[encoded data removed]",
      "text/plain": [
       "<PIL.Image.Image image mode=L size=36x30 at 0x112EDC91E48>"
      ]
     },
     "execution_count": 421,
     "metadata": {},
     "output_type": "execute_result"
    }
   ],
   "source": [
    "T.ToPILImage()(ds_mp2[321][0])"
   ]
  },
  {
   "cell_type": "code",
   "execution_count": null,
   "metadata": {},
   "outputs": [],
   "source": [
    "## Create a custom Dataset\n",
    "\n"
   ]
  }
 ],
 "metadata": {
  "kernelspec": {
   "display_name": "Python 3.7.7 64-bit",
   "language": "python",
   "name": "python37764bit4f4daaad2c2349ef8620b2e0b74071fb"
  },
  "language_info": {
   "codemirror_mode": {
    "name": "ipython",
    "version": 3
   },
   "file_extension": ".py",
   "mimetype": "text/x-python",
   "name": "python",
   "nbconvert_exporter": "python",
   "pygments_lexer": "ipython3",
   "version": "3.7.7"
  }
 },
 "nbformat": 4,
 "nbformat_minor": 4
}
